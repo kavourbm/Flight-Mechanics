{
 "cells": [
  {
   "cell_type": "markdown",
   "metadata": {},
   "source": [
    "# MIDTERM PROJECT\n",
    "\n",
    "#### Ben Kavouras"
   ]
  },
  {
   "cell_type": "code",
   "execution_count": 283,
   "metadata": {},
   "outputs": [],
   "source": [
    "import numpy as np\n",
    "import sympy as sp\n",
    "import matplotlib.pyplot as plt\n",
    "from tabulate import tabulate as tb"
   ]
  },
  {
   "cell_type": "markdown",
   "metadata": {},
   "source": [
    "## Givens"
   ]
  },
  {
   "cell_type": "code",
   "execution_count": 284,
   "metadata": {},
   "outputs": [],
   "source": [
    "# Aircraft\n",
    "\n",
    "Airspeed = 200 # ktas\n",
    "Altitude = 10000 # ft\n",
    "\n",
    "Q = 0.5*0.000800878*((Airspeed*1.6878099)**2) # slug/ft^2\n",
    "\n",
    "Weight = 4000 # lbs\n",
    "\n",
    "Ix = 2500 # slug ft^2\n",
    "Iy = 20500 # slug ft^2\n",
    "Iz = 25000 # slug ft^2\n",
    "Ixy = 0 # slug ft^2\n",
    "\n",
    "# Main Wing\n",
    "\n",
    "ClBw = 0\n",
    "b_wing = 35 # ft\n",
    "MAC_wing = 6.5 # ft\n",
    "SA_wing = 227 # ft^2\n",
    "AR_wing = (b_wing**2)/SA_wing\n",
    "\n",
    "# Main Wing & Fuselage\n",
    "\n",
    "CnB_wf = -0.10\n",
    "Cnr_wf = -0.02\n",
    "\n",
    "# Tail\n",
    "\n",
    "Cla_T = 5.9"
   ]
  },
  {
   "cell_type": "markdown",
   "metadata": {},
   "source": [
    "## Assumptions"
   ]
  },
  {
   "cell_type": "code",
   "execution_count": 285,
   "metadata": {},
   "outputs": [],
   "source": [
    "# Distance of tail aerodynamic center to aircraft cg\n",
    "loc = 12 # ft\n",
    "\n",
    "# Vertical tail height\n",
    "b_T = 15 # ft\n",
    "\n",
    "# % rudder\n",
    "rudder = 0.4 # therefore;\n",
    "tau = 0.6\n",
    "\n",
    "# Vertical tail aspect ratio\n",
    "ART = 1.6\n",
    "\n",
    "# Vertical tail efficiency factor\n",
    "eta = 1"
   ]
  },
  {
   "cell_type": "code",
   "execution_count": 286,
   "metadata": {},
   "outputs": [
    {
     "name": "stdout",
     "output_type": "stream",
     "text": [
      "3D lift curve slope = 2.71 \n",
      "\n",
      "Tail Area = 140.62 ft^2 \n",
      "\n",
      "Tail Volume Ratio = 0.21 \n",
      "\n",
      "Change in sidewash angle with a change in sideslip angle = 0.72 \n",
      "\n",
      "Rudder deflection at a 15-degree sideslip = 20.82 degrees\n",
      "Maximum rudder deflection = 26.25 degrees\n",
      "Pass\n"
     ]
    }
   ],
   "source": [
    "# From Assumptions\n",
    "\n",
    "CLa_T = Cla_T/(1+(Cla_T/(np.pi*ART)))\n",
    "\n",
    "print(\"3D lift curve slope = %3.2f \\n\" % CLa_T)\n",
    "\n",
    "SA_T = (b_T**2)/ART\n",
    "\n",
    "print(\"Tail Area = %3.2f ft^2 \\n\" % SA_T)\n",
    "\n",
    "V_T = (loc*SA_T)/(SA_wing*b_wing)\n",
    "\n",
    "print(\"Tail Volume Ratio = %3.2f \\n\" % V_T)\n",
    "\n",
    "Dsidewash = ((0.724+(3.06*((SA_T/SA_wing)/(1+np.cos(0))))+0.009*AR_wing)*(1/eta))-1\n",
    "\n",
    "print(\"Change in sidewash angle with a change in sideslip angle = %3.2f \\n\" % Dsidewash)\n",
    "\n",
    "Sidewash = 15*(1/Dsidewash)\n",
    "\n",
    "print(\"Rudder deflection at a 15-degree sideslip = %3.2f degrees\" % Sidewash)\n",
    "\n",
    "print(\"Maximum rudder deflection = %3.2f degrees\" % (35*0.75))\n",
    "\n",
    "if Sidewash > (35*0.75):\n",
    "    print(\"Fail\")\n",
    "else:\n",
    "    print(\"Pass\")"
   ]
  },
  {
   "cell_type": "markdown",
   "metadata": {},
   "source": [
    "### Find\n",
    "\n",
    "| Parameter | Value | Unit |\n",
    "| - | - | - |\n",
    "| $ (C_{n_{\\beta}})_{VT} $ | | |\n",
    "| $ C_{n_{\\beta}} $ | |\n",
    "| $ (C_{n_r})_{VT} $ | | |\n",
    "| $ C_{n_r} $ | | |\n",
    "| $ C_{n_{\\delta r}} $ | | |\n",
    "| $ N_{\\beta} $ | | |\n",
    "| $ N_r $ | | |\n",
    "| $ N_{\\delta_r} $ | | |\n",
    "| $ \\zeta $ | | |\n",
    "| $ \\omega $ | | |\n"
   ]
  },
  {
   "cell_type": "code",
   "execution_count": 287,
   "metadata": {},
   "outputs": [],
   "source": [
    "C_np = -1*(CLa_T/8)"
   ]
  },
  {
   "cell_type": "code",
   "execution_count": 288,
   "metadata": {},
   "outputs": [],
   "source": [
    "C_nB_VT = eta*V_T*CLa_T*(1+Dsidewash)\n",
    "\n",
    "C_nB = CnB_wf + C_nB_VT\n",
    "\n",
    "C_nr_VT = -2*eta*V_T*(loc/b_T)*CLa_T\n",
    "\n",
    "C_nr = Cnr_wf + C_nr_VT\n",
    "\n",
    "C_ndr = V_T*eta*tau*CLa_T"
   ]
  },
  {
   "cell_type": "code",
   "execution_count": 289,
   "metadata": {},
   "outputs": [],
   "source": [
    "N_B = (Q*SA_wing*b_wing*C_nB)/Iz\n",
    "\n",
    "N_r = (Q*SA_wing*(b_wing**2)*C_nr)/(2*Ix*(Airspeed*1.6878099))\n",
    "\n",
    "N_dr = (Q*SA_wing*b_wing*C_ndr)/Iz"
   ]
  },
  {
   "cell_type": "code",
   "execution_count": 290,
   "metadata": {},
   "outputs": [],
   "source": [
    "frequency = np.sqrt(N_B)\n",
    "\n",
    "damping = -1*(N_r/(2*frequency))"
   ]
  },
  {
   "cell_type": "code",
   "execution_count": 291,
   "metadata": {},
   "outputs": [
    {
     "name": "stdout",
     "output_type": "stream",
     "text": [
      "╒═══════════════╤═══════════╤═════════╕\n",
      "│ Parameter     │     Value │ Unit    │\n",
      "╞═══════════════╪═══════════╪═════════╡\n",
      "│ (C_nB)_VT     │  0.991783 │         │\n",
      "├───────────────┼───────────┼─────────┤\n",
      "│ C_nB          │  0.891783 │         │\n",
      "├───────────────┼───────────┼─────────┤\n",
      "│ (C_nr)_VT     │ -0.922378 │         │\n",
      "├───────────────┼───────────┼─────────┤\n",
      "│ C_nr          │ -0.942378 │         │\n",
      "├───────────────┼───────────┼─────────┤\n",
      "│ C_ndr         │  0.345892 │         │\n",
      "├───────────────┼───────────┼─────────┤\n",
      "│ N_B           │ 12.9317   │ slug-ft │\n",
      "├───────────────┼───────────┼─────────┤\n",
      "│ N_r           │ -7.08446  │ slug-ft │\n",
      "├───────────────┼───────────┼─────────┤\n",
      "│ N_dr          │  5.01577  │ slug-ft │\n",
      "├───────────────┼───────────┼─────────┤\n",
      "│ Damping Ratio │  0.985028 │         │\n",
      "├───────────────┼───────────┼─────────┤\n",
      "│ Frequency     │  3.59607  │ rad/s   │\n",
      "╘═══════════════╧═══════════╧═════════╛\n"
     ]
    }
   ],
   "source": [
    "ans = np.array([[\"Parameter\",\"Value\",\"Unit\"],[\"(C_nB)_VT\",C_nB_VT,\" \"],[\"C_nB\",C_nB,\" \"],[\"(C_nr)_VT\",C_nr_VT,\" \"],[\"C_nr\",C_nr,\" \"],[\"C_ndr\",C_ndr,\" \"],[\"N_B\",N_B,\"slug-ft\"],[\"N_r\",N_r,\"slug-ft\"],[\"N_dr\",N_dr,\"slug-ft\"],[\"Damping Ratio\",damping,\" \"],[\"Frequency\",frequency,\"rad/s\"]])\n",
    "print(tb(ans,headers='firstrow',tablefmt='fancy_grid'))"
   ]
  }
 ],
 "metadata": {
  "kernelspec": {
   "display_name": "Python 3",
   "language": "python",
   "name": "python3"
  },
  "language_info": {
   "codemirror_mode": {
    "name": "ipython",
    "version": 3
   },
   "file_extension": ".py",
   "mimetype": "text/x-python",
   "name": "python",
   "nbconvert_exporter": "python",
   "pygments_lexer": "ipython3",
   "version": "3.12.7"
  }
 },
 "nbformat": 4,
 "nbformat_minor": 2
}
